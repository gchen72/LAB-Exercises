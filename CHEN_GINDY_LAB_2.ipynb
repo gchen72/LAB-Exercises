{
 "cells": [
  {
   "cell_type": "code",
   "execution_count": 13,
   "id": "c1ddc6cd",
   "metadata": {},
   "outputs": [
    {
     "name": "stdout",
     "output_type": "stream",
     "text": [
      "My name is Gindy\n",
      "6818\n",
      "What year were you born in?2004\n",
      "What year is it now?2022\n",
      "18\n",
      "What is your first name?Gindy\n",
      "What is your last name?Chen\n",
      "GINDY CHEN\n"
     ]
    }
   ],
   "source": [
    "# Question 1\n",
    "\"\"\"a = \"hello\" # strings\n",
    "b = 23 # integers\n",
    "c = 2.4 # float\n",
    "d = True # boolean\n",
    "e = hello # nothing  \"\"\"\n",
    "\n",
    "# Question 2\n",
    "my_name = \"Gindy\"\n",
    "print (\"My name is \" + my_name)\n",
    "sentence = \"My name is \" + my_name\n",
    "len(sentence)\n",
    "\n",
    "# Question 3\n",
    "days_old = 365*18+31*5+28+2*30+5\n",
    "print(days_old)\n",
    "days_old%2\n",
    "\n",
    "# Question 4\n",
    "birth_year = int(input(\"What year were you born in?\"))\n",
    "year_now = int(input (\"What year is it now?\"))\n",
    "year_old = year_now - birth_year\n",
    "print (year_old)\n",
    "\n",
    "# Question 5\n",
    "first_name = input(\"What is your first name?\")\n",
    "last_name = input (\"What is your last name?\")\n",
    "upper_first = first_name.upper()\n",
    "upper_last = last_name.upper()\n",
    "print (upper_first +\" \"+upper_last)"
   ]
  },
  {
   "cell_type": "code",
   "execution_count": null,
   "id": "3c94a1f7",
   "metadata": {},
   "outputs": [],
   "source": []
  }
 ],
 "metadata": {
  "kernelspec": {
   "display_name": "Python 3 (ipykernel)",
   "language": "python",
   "name": "python3"
  },
  "language_info": {
   "codemirror_mode": {
    "name": "ipython",
    "version": 3
   },
   "file_extension": ".py",
   "mimetype": "text/x-python",
   "name": "python",
   "nbconvert_exporter": "python",
   "pygments_lexer": "ipython3",
   "version": "3.9.12"
  }
 },
 "nbformat": 4,
 "nbformat_minor": 5
}
