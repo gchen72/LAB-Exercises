{
 "cells": [
  {
   "cell_type": "code",
   "execution_count": 1,
   "id": "0cbdb0ee",
   "metadata": {},
   "outputs": [
    {
     "name": "stdout",
     "output_type": "stream",
     "text": [
      "[1, 33, 101, 9, 45]\n"
     ]
    }
   ],
   "source": [
    "list_one = [1,1,3,4,9,11,22,33,45,56,98,101,200]\n",
    "list_two = [1,5,7,9,15,20,33,40,41,45,75,88,99,101]\n",
    "new_list = []\n",
    "\n",
    "for i in list_one:\n",
    "    if i in list_two:\n",
    "        new_list.append(i)\n",
    "print(list(set(new_list)))"
   ]
  },
  {
   "cell_type": "code",
   "execution_count": 3,
   "id": "14590bd8",
   "metadata": {},
   "outputs": [
    {
     "name": "stdout",
     "output_type": "stream",
     "text": [
      "Your withdrew 2004 dollars. You have 1050000 dollars left. \n",
      "Your deposit 224 dollars. You have 1050224 dollars left. \n",
      "You have 1050224 dollars on your account.\n"
     ]
    }
   ],
   "source": [
    "class BankAccount(): \n",
    "    def __init__(self, account_number, balance):\n",
    "        self.a_num= account_number\n",
    "        self.bal = balance\n",
    "    def withdraw(self, w_amount):\n",
    "        self.bal -= w_amount\n",
    "        print(f\"Your withdrew \" + str(w_amount) +\" dollars. You have \" + str(self.bal) + \" dollars left. \")\n",
    "    def deposit(self, d_amount):\n",
    "        self.bal += d_amount\n",
    "        print(f\"Your deposit \" + str(d_amount) +\" dollars. You have \" + str(self.bal) + \" dollars left. \")\n",
    "    def check_balance(self):\n",
    "        print (f\"You have \" + str(self.bal) + \" dollars on your account.\")\n",
    "\n",
    "c1 = BankAccount(221144769, 1052004)\n",
    "c1.withdraw(2004)\n",
    "c1.deposit(224)\n",
    "c1.check_balance()\n"
   ]
  },
  {
   "cell_type": "markdown",
   "id": "f532e464",
   "metadata": {},
   "source": [
    "# Post LAB\n"
   ]
  },
  {
   "cell_type": "markdown",
   "id": "297c6112",
   "metadata": {},
   "source": [
    "_Question 1_"
   ]
  },
  {
   "cell_type": "code",
   "execution_count": 4,
   "id": "56fade3a",
   "metadata": {},
   "outputs": [
    {
     "data": {
      "text/plain": [
       "'chestnut'"
      ]
     },
     "execution_count": 4,
     "metadata": {},
     "output_type": "execute_result"
    }
   ],
   "source": [
    "list = [\"apple\", \"chestnut\", \"gargoyle\", \"pandas\", \"sheep\", \"raptor\"]\n",
    "\n",
    "def long():\n",
    "    longer_word =\"\"\n",
    "    for i in list:\n",
    "        if len(i)> len(longer_word):\n",
    "            longer_word = i\n",
    "    return longer_word\n",
    "long()"
   ]
  },
  {
   "cell_type": "code",
   "execution_count": 5,
   "id": "58b7e40d",
   "metadata": {},
   "outputs": [
    {
     "name": "stdout",
     "output_type": "stream",
     "text": [
      "The longest word/words in the list is \n",
      "['chestnut', 'gargoyle']\n"
     ]
    }
   ],
   "source": [
    "list = [\"apple\", \"chestnut\", \"gargoyle\", \"pandas\", \"sheep\", \"raptor\"]\n",
    "\n",
    "def long(list1):\n",
    "    letters = 0\n",
    "    longer_words = []\n",
    "    for i in list1:\n",
    "        if len(i) > letters :\n",
    "            letters = len(i)\n",
    "    for i in list1: \n",
    "        if len(i) == letters:\n",
    "            longer_words.append(i)\n",
    "    print (f\"The longest word/words in the list is \")\n",
    "    print ( longer_words)\n",
    "long(list)\n",
    "        "
   ]
  },
  {
   "cell_type": "markdown",
   "id": "1d595d34",
   "metadata": {},
   "source": [
    "_Question 2_"
   ]
  },
  {
   "cell_type": "code",
   "execution_count": 6,
   "id": "9b352edf",
   "metadata": {},
   "outputs": [
    {
     "name": "stdout",
     "output_type": "stream",
     "text": [
      "The longest word/words in the list is \n",
      "['cooperation']\n"
     ]
    }
   ],
   "source": [
    "#list from http://www.rupert.id.au/resources/1000-words.php \n",
    "import random\n",
    "common_words = \"4000-most-common-english-words-csv.csv\"\n",
    "\n",
    "\n",
    "def list_generator(): \n",
    "    wlist = []\n",
    "    filename = common_words\n",
    "    f = open(filename, \"r\" , encoding = \"utf8\")\n",
    "    words = f.readlines()\n",
    "    f.close()\n",
    "    wlist.append(random.choice(words).strip())\n",
    "    wlist.append(random.choice(words).strip())\n",
    "    wlist.append(random.choice(words).strip())\n",
    "    wlist.append(random.choice(words).strip())\n",
    "    wlist.append(random.choice(words).strip())\n",
    "    wlist.append(random.choice(words).strip())\n",
    "    wlist.append(random.choice(words).strip())\n",
    "    return wlist\n",
    "\n",
    "long(list_generator())"
   ]
  },
  {
   "cell_type": "markdown",
   "id": "947138ed",
   "metadata": {},
   "source": [
    "_Question 3_\n"
   ]
  },
  {
   "cell_type": "code",
   "execution_count": 16,
   "id": "92a37140",
   "metadata": {},
   "outputs": [
    {
     "name": "stdout",
     "output_type": "stream",
     "text": [
      "3.89\n",
      "{'HotChocolate': 3.89, 'Donut': 2.19, 'Ice Coffee': 3.19, 'Munchkins': 3.89, 'Hash Browns': 2.19}\n",
      "{'HotChocolate': 3.89, 'Donut': 2.19, 'Ice Coffee': 3.19, 'Munchkins': 3.89, 'Ice Latte': 3.19}\n",
      "{}\n"
     ]
    }
   ],
   "source": [
    "Dunkin = {\"HotChocolate\": 3.89, \"Donut\": 2.19, \"Ice Coffee\": 3.19, \"Munchkins\":3.89, \"Ice Latte\": 3.19}\n",
    "Dunkin2 = Dunkin.copy()\n",
    "print (Dunkin.get(\"Munchkins\"))\n",
    "Dunkin[\"Hash Browns\"]=2.19\n",
    "Dunkin.pop(\"Ice Latte\")\n",
    "Dunkin.values()\n",
    "print(Dunkin)\n",
    "print (Dunkin2)\n",
    "Dunkin2.clear()\n",
    "print(Dunkin2)\n"
   ]
  },
  {
   "cell_type": "markdown",
   "id": "f113217c",
   "metadata": {},
   "source": [
    "_Question 4 - A system to manage a student's school record (would need a way to gather/store personal information, record grades, record GPA, etc.)_"
   ]
  },
  {
   "cell_type": "code",
   "execution_count": 43,
   "id": "d3158c1d",
   "metadata": {},
   "outputs": [
    {
     "name": "stdout",
     "output_type": "stream",
     "text": [
      "Student Name: Caroline\n",
      "Student year: 2026\n",
      "Student B-Number: B221144769\n",
      "Student Grades: \n",
      "{'Calculus': 99, 'Psychology': 93, 'Pyhsics': 90}\n",
      "Student Caroline's GPA is 94.0.\n",
      "\n",
      "Student Name: Caroline\n",
      "Student year: 2026\n",
      "Student B-Number: B221144769\n",
      "Student Grades: \n",
      "{'Calculus': 100, 'Psychology': 96, 'Chemistry': 88, 'Biology': 76, 'Management': 89, 'Pyhsics': 98}\n",
      "Student Caroline's GPA is 91.17.\n"
     ]
    }
   ],
   "source": [
    "\"\"\"first I would create a class with the parameters of name, year, B-number and a dictionary of their classes \n",
    "and grade in each class. Then I would create a few example students and create methods to calculate GPA, changing \n",
    "grades.\"\"\"\n",
    "\n",
    "class StudentRecords:\n",
    "    def __init__(self, name, year, B_num, grades):\n",
    "        self.name = name\n",
    "        self.year = year\n",
    "        self.B_num = B_num\n",
    "        self.grades = grades\n",
    "    def add_class(self, class_name, grade):\n",
    "        self.grades[class_name]=grade\n",
    "    def GPA_calc(self):\n",
    "        total = 0\n",
    "        num_classes = 0\n",
    "        for i in self.grades:\n",
    "            total += self.grades[i]\n",
    "            num_classes += 1 \n",
    "        GPA = round((total / num_classes),2)\n",
    "        print (f\"Student \" + self.name +\"'s GPA is \" + str(GPA) +\".\")\n",
    "    def report(self):\n",
    "        print (f\"Student Name: \"+self.name)\n",
    "        print (f\"Student year: \"+ str(self.year))\n",
    "        print (f\"Student B-Number: \"+self.B_num)\n",
    "        print (\"Student Grades: \")\n",
    "        print (self.grades)\n",
    "\n",
    "s1 = StudentRecords(\"Caroline\", 2026, \"B221144769\", {\"Calculus\":99, \"Psychology\": 93})\n",
    "s1.add_class(\"Pyhsics\", 90)\n",
    "s1.report()\n",
    "s1.GPA_calc()\n",
    "print (\"\")\n",
    "s2= StudentRecords(\"Caroline\", 2026, \"B221144769\", {\"Calculus\":100, \"Psychology\": 96, \"Chemistry\": 88, \"Biology\":\n",
    "                                                   76, \"Management\": 89})\n",
    "s2.add_class(\"Pyhsics\", 98)\n",
    "s2.report()\n",
    "s2.GPA_calc()\n",
    "        "
   ]
  },
  {
   "cell_type": "markdown",
   "id": "39aadcdf",
   "metadata": {},
   "source": [
    "_Question 5_"
   ]
  },
  {
   "cell_type": "code",
   "execution_count": 45,
   "id": "b7b93886",
   "metadata": {},
   "outputs": [
    {
     "name": "stdout",
     "output_type": "stream",
     "text": [
      "Let Play Hangman!\n",
      "This is a 7 word.\n",
      "Guess a letter : u\n",
      "\n",
      "Your guess isn't in the word!\n",
      "You have 6 wrong guesses left!\n",
      "Guess a letter : o\n",
      "\n",
      "Your guess isn't in the word!\n",
      "You have 5 wrong guesses left!\n",
      "Guess a letter : p\n",
      "\n",
      "Your guess isn't in the word!\n",
      "You have 4 wrong guesses left!\n",
      "Guess a letter : k\n",
      "\n",
      "Your guess isn't in the word!\n",
      "You have 3 wrong guesses left!\n",
      "Guess a letter : n\n",
      "\n",
      "Your guess isn't in the word!\n",
      "You have 2 wrong guesses left!\n",
      "Guess a letter : m\n",
      "\n",
      "______M\n",
      "Guess a letter : l\n",
      "\n",
      "Your guess isn't in the word!\n",
      "You have 1 wrong guesses left!\n",
      "Guess a letter : f\n",
      "\n",
      "Your guess isn't in the word!\n",
      "You have 0 wrong guesses left!\n",
      "You lost! \n",
      "Do you want to play again? (y/n): n\n"
     ]
    }
   ],
   "source": [
    "#HANGMAN\n",
    "#generate word\n",
    "import random\n",
    "sowpods = \"sowpods.txt\"\n",
    "\n",
    "def word_generator(): #choosing a word from the list of words\n",
    "    filename = sowpods\n",
    "    f = open(filename, \"r\" , encoding = \"utf8\")\n",
    "    words = f.readlines()\n",
    "    f.close()\n",
    "    return random.choice(words).strip()\n",
    "\n",
    "#abc list to compare the letters later\n",
    "abc = [\"A\", \"B\", \"C\", \"D\", \"E\", \"F\", \"G\", \"H\", \"I\", \"J\", \"K\", \"L\", \"M\", \"N\", \"O\", \"P\", \"Q\", \n",
    "       \"R\", \"S\", \"T\", \"U\", \"V\", \"W\", \"X\", \"Y\", \"Z\"]\n",
    "\n",
    "def playagain(): #restarting the game if the player wants to play again\n",
    "    again = input (\"Do you want to play again? (y/n): \")\n",
    "    again.lower()\n",
    "    if again == \"y\" :\n",
    "        game()\n",
    "        \n",
    "def game ():\n",
    "    #generate a word with the word_generator function\n",
    "    word = word_generator()\n",
    "    print (f\"This is a \" +str(len(word)) + \" word.\")     #tells the player the number of letters in the word\n",
    "    guessed_letters = []    #keeping track of the letters already guessed\n",
    "    guess_wrong = 0    # initiate the number of wrong guesses & guess wrong left\n",
    "    guess_wrong_left = 7\n",
    "\n",
    "    #checking\n",
    "    \"\"\"print (word) \"\"\"\n",
    "    #creating two lists with letters of the word and dashes\n",
    "    word_s= []\n",
    "    dash =[]\n",
    "    for i in range(0,len(word)):\n",
    "        word_s.append(word[i])\n",
    "        dash.append(\"_\")\n",
    "\n",
    "    # main game\n",
    "    while guess_wrong <= 6 :\n",
    "        #input as guess from user\n",
    "        guess = input(\"Guess a letter : \")\n",
    "        guess = guess.upper()\n",
    "        print (\"\")\n",
    "        #to check if its a letter\n",
    "        while guess not in abc:\n",
    "            guess = input (\"Guess is not a letter! Try Again ! Guess Again: \")\n",
    "            guess = guess.upper()\n",
    "        # to check if the player guess the letter before    \n",
    "        if guess in guessed_letters:\n",
    "            print (f\"You already guessed the letter \" + guess + \".\")\n",
    "        #add the guess to the list of guesses if not in the list already\n",
    "        else: \n",
    "            guessed_letters.append(guess)\n",
    "            \n",
    "            if guess in word: \n",
    "                for i in range (0,len(word)): \n",
    "                    #goes through the word and replace the dash with the letter if guessed correctly\n",
    "                    if word[i] == guess:\n",
    "                        dash[i]=word_s[i]\n",
    "                print (\"\".join(dash))\n",
    "            else:\n",
    "                print(\"Your guess isn't in the word!\")\n",
    "                guess_wrong += 1\n",
    "                guess_wrong_left -= 1 \n",
    "                print (\"You have \" + str(guess_wrong_left) + \" wrong guesses left!\")\n",
    "        # winning condition \n",
    "        if \"_\" not in dash:\n",
    "            print (\"The word is \" + word + \". You guessed it! Congrats\") \n",
    "            break\n",
    "    # losing condition\n",
    "    if guess_wrong > 6: \n",
    "        print (\"You lost! \")\n",
    "    playagain()    \n",
    "\n",
    "    \n",
    "print (\"Let Play Hangman!\")\n",
    "game()\n"
   ]
  },
  {
   "cell_type": "code",
   "execution_count": null,
   "id": "13c07ac4",
   "metadata": {},
   "outputs": [],
   "source": []
  }
 ],
 "metadata": {
  "kernelspec": {
   "display_name": "Python 3 (ipykernel)",
   "language": "python",
   "name": "python3"
  },
  "language_info": {
   "codemirror_mode": {
    "name": "ipython",
    "version": 3
   },
   "file_extension": ".py",
   "mimetype": "text/x-python",
   "name": "python",
   "nbconvert_exporter": "python",
   "pygments_lexer": "ipython3",
   "version": "3.9.12"
  }
 },
 "nbformat": 4,
 "nbformat_minor": 5
}
