{
 "cells": [
  {
   "cell_type": "markdown",
   "id": "af28f8f3",
   "metadata": {},
   "source": [
    "# LAB 7"
   ]
  },
  {
   "cell_type": "markdown",
   "id": "642ad0f6",
   "metadata": {},
   "source": [
    "_PART ONE_"
   ]
  },
  {
   "cell_type": "code",
   "execution_count": 1,
   "id": "1548824b",
   "metadata": {},
   "outputs": [],
   "source": [
    "import requests\n",
    "import json\n",
    "import pandas as pd\n",
    "import csv\n",
    "import matplotlib.pyplot as plt \n",
    "import numpy as np\n",
    "lat = \"42.089701\"\n",
    "lon = \"-75.912537\"\n",
    "genius = requests.get(f'https://api.weather.gov/points/{lat},{lon}')\n",
    "json_file= genius.json()\n",
    "json_file\n",
    "link = json_file[\"properties\"]['forecast']\n",
    "new_request = requests.get(link)\n",
    "json = new_request.json()\n",
    "day = json['properties']['periods']\n",
    "\n",
    "csv_file = open(\"Weather.csv\", \"w\", newline=\"\", encoding = \"utf-8\")\n",
    "csv_writer = csv.writer(csv_file)\n",
    "csv_writer.writerow([\"Name\", \"Temperature\",\"Descriptions\"])\n",
    "for i in day:\n",
    "    name = i[\"name\"]\n",
    "    temp =i[\"temperature\"]\n",
    "    tempU = i[\"temperatureUnit\"]\n",
    "    description = i[\"detailedForecast\"]\n",
    "    csv_writer.writerow([name, temp, description])\n",
    "csv_file.close()"
   ]
  },
  {
   "cell_type": "code",
   "execution_count": 2,
   "id": "bb908724",
   "metadata": {},
   "outputs": [
    {
     "data": {
      "text/plain": [
       "<function matplotlib.pyplot.show(close=None, block=None)>"
      ]
     },
     "execution_count": 2,
     "metadata": {},
     "output_type": "execute_result"
    },
    {
     "data": {
      "image/png": "[encoded data removed]",
      "text/plain": [
       "<Figure size 720x504 with 1 Axes>"
      ]
     },
     "metadata": {
      "needs_background": "light"
     },
     "output_type": "display_data"
    }
   ],
   "source": [
    "sheet= pd.read_csv(\"Weather.csv\")\n",
    "sheet\n",
    "import matplotlib.pyplot as plt \n",
    "import numpy as np\n",
    "df = pd.DataFrame(sheet)\n",
    "name = df[\"Name\"]\n",
    "pop = df[\"Temperature\"]\n",
    "fig = plt.figure(figsize = (10,7))\n",
    "plt.bar(name,pop) # first ten of the states only\n",
    "plt.xlabel(\"Day\")\n",
    "plt.ylabel(\"Temperature\")\n",
    "plt.title (\"Daily Temperature\")\n",
    "plt.show\n",
    "\n"
   ]
  },
  {
   "cell_type": "markdown",
   "id": "d517539e",
   "metadata": {},
   "source": [
    "_PART TWO_"
   ]
  },
  {
   "cell_type": "code",
   "execution_count": 3,
   "id": "4545ffff",
   "metadata": {},
   "outputs": [
    {
     "name": "stdout",
     "output_type": "stream",
     "text": [
      "{\"commonName\":\"United States\",\"officialName\":\"United States of America\",\"countryCode\":\"US\",\"region\":\"Americas\",\"borders\":[{\"commonName\":\"Canada\",\"officialName\":\"Canada\",\"countryCode\":\"CA\",\"region\":\"Americas\",\"borders\":null},{\"commonName\":\"Mexico\",\"officialName\":\"United Mexican States\",\"countryCode\":\"MX\",\"region\":\"Americas\",\"borders\":null}]}\n"
     ]
    }
   ],
   "source": [
    "import requests\n",
    "import json\n",
    "\n",
    "year = \"2023\"\n",
    "countryCode =\"US\"\n",
    "link_head = \"https://date.nager.at\"\n",
    "\n",
    "# /api/v3/CountryInfo/{countryCode}\n",
    "# Going into the Country Code part of the Json and Getting the Country Code of the Country using the ISO Code\n",
    "link =f'{link_head}/api/v3/CountryInfo/{countryCode}' \n",
    "json = requests.get(link)\n",
    "print(json.text )"
   ]
  },
  {
   "cell_type": "code",
   "execution_count": 4,
   "id": "0910c7d1",
   "metadata": {},
   "outputs": [
    {
     "name": "stdout",
     "output_type": "stream",
     "text": [
      "[{\"countryCode\":\"AD\",\"name\":\"Andorra\"},{\"countryCode\":\"AL\",\"name\":\"Albania\"},{\"countryCode\":\"AR\",\"name\":\"Argentina\"},{\"countryCode\":\"AT\",\"name\":\"Austria\"},{\"countryCode\":\"AU\",\"name\":\"Australia\"},{\"countryCode\":\"AX\",\"name\":\"Åland Islands\"},{\"countryCode\":\"BA\",\"name\":\"Bosnia and Herzegovina\"},{\"countryCode\":\"BB\",\"name\":\"Barbados\"},{\"countryCode\":\"BE\",\"name\":\"Belgium\"},{\"countryCode\":\"BG\",\"name\":\"Bulgaria\"},{\"countryCode\":\"BJ\",\"name\":\"Benin\"},{\"countryCode\":\"BO\",\"name\":\"Bolivia\"},{\"countryCode\":\"BR\",\"name\":\"Brazil\"},{\"countryCode\":\"BS\",\"name\":\"Bahamas\"},{\"countryCode\":\"BW\",\"name\":\"Botswana\"},{\"countryCode\":\"BY\",\"name\":\"Belarus\"},{\"countryCode\":\"BZ\",\"name\":\"Belize\"},{\"countryCode\":\"CA\",\"name\":\"Canada\"},{\"countryCode\":\"CH\",\"name\":\"Switzerland\"},{\"countryCode\":\"CL\",\"name\":\"Chile\"},{\"countryCode\":\"CN\",\"name\":\"China\"},{\"countryCode\":\"CO\",\"name\":\"Colombia\"},{\"countryCode\":\"CR\",\"name\":\"Costa Rica\"},{\"countryCode\":\"CU\",\"name\":\"Cuba\"},{\"countryCode\":\"CY\",\"name\":\"Cyprus\"},{\"countryCode\":\"CZ\",\"name\":\"Czechia\"},{\"countryCode\":\"DE\",\"name\":\"Germany\"},{\"countryCode\":\"DK\",\"name\":\"Denmark\"},{\"countryCode\":\"DO\",\"name\":\"Dominican Republic\"},{\"countryCode\":\"EC\",\"name\":\"Ecuador\"},{\"countryCode\":\"EE\",\"name\":\"Estonia\"},{\"countryCode\":\"EG\",\"name\":\"Egypt\"},{\"countryCode\":\"ES\",\"name\":\"Spain\"},{\"countryCode\":\"FI\",\"name\":\"Finland\"},{\"countryCode\":\"FO\",\"name\":\"Faroe Islands\"},{\"countryCode\":\"FR\",\"name\":\"France\"},{\"countryCode\":\"GA\",\"name\":\"Gabon\"},{\"countryCode\":\"GB\",\"name\":\"United Kingdom\"},{\"countryCode\":\"GD\",\"name\":\"Grenada\"},{\"countryCode\":\"GG\",\"name\":\"Guernsey\"},{\"countryCode\":\"GI\",\"name\":\"Gibraltar\"},{\"countryCode\":\"GL\",\"name\":\"Greenland\"},{\"countryCode\":\"GM\",\"name\":\"Gambia\"},{\"countryCode\":\"GR\",\"name\":\"Greece\"},{\"countryCode\":\"GT\",\"name\":\"Guatemala\"},{\"countryCode\":\"GY\",\"name\":\"Guyana\"},{\"countryCode\":\"HN\",\"name\":\"Honduras\"},{\"countryCode\":\"HR\",\"name\":\"Croatia\"},{\"countryCode\":\"HT\",\"name\":\"Haiti\"},{\"countryCode\":\"HU\",\"name\":\"Hungary\"},{\"countryCode\":\"ID\",\"name\":\"Indonesia\"},{\"countryCode\":\"IE\",\"name\":\"Ireland\"},{\"countryCode\":\"IM\",\"name\":\"Isle of Man\"},{\"countryCode\":\"IS\",\"name\":\"Iceland\"},{\"countryCode\":\"IT\",\"name\":\"Italy\"},{\"countryCode\":\"JE\",\"name\":\"Jersey\"},{\"countryCode\":\"JM\",\"name\":\"Jamaica\"},{\"countryCode\":\"JP\",\"name\":\"Japan\"},{\"countryCode\":\"KR\",\"name\":\"South Korea\"},{\"countryCode\":\"LI\",\"name\":\"Liechtenstein\"},{\"countryCode\":\"LS\",\"name\":\"Lesotho\"},{\"countryCode\":\"LT\",\"name\":\"Lithuania\"},{\"countryCode\":\"LU\",\"name\":\"Luxembourg\"},{\"countryCode\":\"LV\",\"name\":\"Latvia\"},{\"countryCode\":\"MA\",\"name\":\"Morocco\"},{\"countryCode\":\"MC\",\"name\":\"Monaco\"},{\"countryCode\":\"MD\",\"name\":\"Moldova\"},{\"countryCode\":\"ME\",\"name\":\"Montenegro\"},{\"countryCode\":\"MG\",\"name\":\"Madagascar\"},{\"countryCode\":\"MK\",\"name\":\"North Macedonia\"},{\"countryCode\":\"MN\",\"name\":\"Mongolia\"},{\"countryCode\":\"MS\",\"name\":\"Montserrat\"},{\"countryCode\":\"MT\",\"name\":\"Malta\"},{\"countryCode\":\"MX\",\"name\":\"Mexico\"},{\"countryCode\":\"MZ\",\"name\":\"Mozambique\"},{\"countryCode\":\"NA\",\"name\":\"Namibia\"},{\"countryCode\":\"NE\",\"name\":\"Niger\"},{\"countryCode\":\"NG\",\"name\":\"Nigeria\"},{\"countryCode\":\"NI\",\"name\":\"Nicaragua\"},{\"countryCode\":\"NL\",\"name\":\"Netherlands\"},{\"countryCode\":\"NO\",\"name\":\"Norway\"},{\"countryCode\":\"NZ\",\"name\":\"New Zealand\"},{\"countryCode\":\"PA\",\"name\":\"Panama\"},{\"countryCode\":\"PE\",\"name\":\"Peru\"},{\"countryCode\":\"PG\",\"name\":\"Papua New Guinea\"},{\"countryCode\":\"PL\",\"name\":\"Poland\"},{\"countryCode\":\"PR\",\"name\":\"Puerto Rico\"},{\"countryCode\":\"PT\",\"name\":\"Portugal\"},{\"countryCode\":\"PY\",\"name\":\"Paraguay\"},{\"countryCode\":\"RO\",\"name\":\"Romania\"},{\"countryCode\":\"RS\",\"name\":\"Serbia\"},{\"countryCode\":\"RU\",\"name\":\"Russia\"},{\"countryCode\":\"SE\",\"name\":\"Sweden\"},{\"countryCode\":\"SG\",\"name\":\"Singapore\"},{\"countryCode\":\"SI\",\"name\":\"Slovenia\"},{\"countryCode\":\"SJ\",\"name\":\"Svalbard and Jan Mayen\"},{\"countryCode\":\"SK\",\"name\":\"Slovakia\"},{\"countryCode\":\"SM\",\"name\":\"San Marino\"},{\"countryCode\":\"SR\",\"name\":\"Suriname\"},{\"countryCode\":\"SV\",\"name\":\"El Salvador\"},{\"countryCode\":\"TN\",\"name\":\"Tunisia\"},{\"countryCode\":\"TR\",\"name\":\"Turkey\"},{\"countryCode\":\"UA\",\"name\":\"Ukraine\"},{\"countryCode\":\"US\",\"name\":\"United States\"},{\"countryCode\":\"UY\",\"name\":\"Uruguay\"},{\"countryCode\":\"VA\",\"name\":\"Vatican City\"},{\"countryCode\":\"VE\",\"name\":\"Venezuela\"},{\"countryCode\":\"VN\",\"name\":\"Vietnam\"},{\"countryCode\":\"ZA\",\"name\":\"South Africa\"},{\"countryCode\":\"ZW\",\"name\":\"Zimbabwe\"}]\n"
     ]
    }
   ],
   "source": [
    "# /api/v3/AvailableCountries\n",
    "#  giving back the Country code and Country name that they have data for\n",
    "link =f'{link_head}/api/v3/AvailableCountries' \n",
    "json = requests.get(link)\n",
    "print(json.text )"
   ]
  },
  {
   "cell_type": "code",
   "execution_count": 5,
   "id": "38cb57b8",
   "metadata": {},
   "outputs": [
    {
     "name": "stdout",
     "output_type": "stream",
     "text": [
      "[{\"startDate\":\"2022-12-31\",\"endDate\":\"2023-01-02\",\"dayCount\":3,\"needBridgeDay\":false},{\"startDate\":\"2023-01-14\",\"endDate\":\"2023-01-16\",\"dayCount\":3,\"needBridgeDay\":false},{\"startDate\":\"2023-02-18\",\"endDate\":\"2023-02-20\",\"dayCount\":3,\"needBridgeDay\":false},{\"startDate\":\"2023-05-27\",\"endDate\":\"2023-05-29\",\"dayCount\":3,\"needBridgeDay\":false},{\"startDate\":\"2023-06-17\",\"endDate\":\"2023-06-19\",\"dayCount\":3,\"needBridgeDay\":false},{\"startDate\":\"2023-07-01\",\"endDate\":\"2023-07-04\",\"dayCount\":4,\"needBridgeDay\":true},{\"startDate\":\"2023-09-02\",\"endDate\":\"2023-09-04\",\"dayCount\":3,\"needBridgeDay\":false},{\"startDate\":\"2023-11-10\",\"endDate\":\"2023-11-12\",\"dayCount\":3,\"needBridgeDay\":false},{\"startDate\":\"2023-11-23\",\"endDate\":\"2023-11-26\",\"dayCount\":4,\"needBridgeDay\":true},{\"startDate\":\"2023-12-23\",\"endDate\":\"2023-12-25\",\"dayCount\":3,\"needBridgeDay\":false}]\n"
     ]
    }
   ],
   "source": [
    "# /api/v3/LongWeekend/{year}/{countryCode}\n",
    "# Holidays in the country of yur choosing that gives you extra days off/long weekend\n",
    "link =f'{link_head}/api/v3/LongWeekend/{year}/{countryCode}' \n",
    "json = requests.get(link)\n",
    "print(json.text )"
   ]
  },
  {
   "cell_type": "code",
   "execution_count": 6,
   "id": "98d383a2",
   "metadata": {},
   "outputs": [
    {
     "name": "stdout",
     "output_type": "stream",
     "text": [
      "[{\"date\":\"2023-01-02\",\"localName\":\"New Year's Day\",\"name\":\"New Year's Day\",\"countryCode\":\"US\",\"fixed\":false,\"global\":true,\"counties\":null,\"launchYear\":null,\"types\":[\"Public\"]},{\"date\":\"2023-01-16\",\"localName\":\"Martin Luther King, Jr. Day\",\"name\":\"Martin Luther King, Jr. Day\",\"countryCode\":\"US\",\"fixed\":false,\"global\":true,\"counties\":null,\"launchYear\":null,\"types\":[\"Public\"]},{\"date\":\"2023-02-20\",\"localName\":\"Presidents Day\",\"name\":\"Washington's Birthday\",\"countryCode\":\"US\",\"fixed\":false,\"global\":true,\"counties\":null,\"launchYear\":null,\"types\":[\"Public\"]},{\"date\":\"2023-04-07\",\"localName\":\"Good Friday\",\"name\":\"Good Friday\",\"countryCode\":\"US\",\"fixed\":false,\"global\":false,\"counties\":[\"US-CT\",\"US-DE\",\"US-HI\",\"US-IN\",\"US-KY\",\"US-LA\",\"US-NC\",\"US-ND\",\"US-NJ\",\"US-TN\"],\"launchYear\":null,\"types\":[\"Public\"]},{\"date\":\"2023-04-07\",\"localName\":\"Good Friday\",\"name\":\"Good Friday\",\"countryCode\":\"US\",\"fixed\":false,\"global\":false,\"counties\":[\"US-TX\"],\"launchYear\":null,\"types\":[\"Optional\"]},{\"date\":\"2023-05-29\",\"localName\":\"Memorial Day\",\"name\":\"Memorial Day\",\"countryCode\":\"US\",\"fixed\":false,\"global\":true,\"counties\":null,\"launchYear\":null,\"types\":[\"Public\"]},{\"date\":\"2023-06-19\",\"localName\":\"Juneteenth\",\"name\":\"Juneteenth\",\"countryCode\":\"US\",\"fixed\":false,\"global\":true,\"counties\":null,\"launchYear\":2021,\"types\":[\"Public\"]},{\"date\":\"2023-07-04\",\"localName\":\"Independence Day\",\"name\":\"Independence Day\",\"countryCode\":\"US\",\"fixed\":false,\"global\":true,\"counties\":null,\"launchYear\":null,\"types\":[\"Public\"]},{\"date\":\"2023-09-04\",\"localName\":\"Labor Day\",\"name\":\"Labour Day\",\"countryCode\":\"US\",\"fixed\":false,\"global\":true,\"counties\":null,\"launchYear\":null,\"types\":[\"Public\"]},{\"date\":\"2023-10-09\",\"localName\":\"Columbus Day\",\"name\":\"Columbus Day\",\"countryCode\":\"US\",\"fixed\":false,\"global\":false,\"counties\":[\"US-AL\",\"US-AZ\",\"US-CO\",\"US-CT\",\"US-GA\",\"US-ID\",\"US-IL\",\"US-IN\",\"US-IA\",\"US-KS\",\"US-KY\",\"US-LA\",\"US-ME\",\"US-MD\",\"US-MA\",\"US-MS\",\"US-MO\",\"US-MT\",\"US-NE\",\"US-NH\",\"US-NJ\",\"US-NM\",\"US-NY\",\"US-NC\",\"US-OH\",\"US-OK\",\"US-PA\",\"US-RI\",\"US-SC\",\"US-TN\",\"US-UT\",\"US-VA\",\"US-WV\"],\"launchYear\":null,\"types\":[\"Public\"]},{\"date\":\"2023-11-10\",\"localName\":\"Veterans Day\",\"name\":\"Veterans Day\",\"countryCode\":\"US\",\"fixed\":false,\"global\":true,\"counties\":null,\"launchYear\":null,\"types\":[\"Public\"]},{\"date\":\"2023-11-23\",\"localName\":\"Thanksgiving Day\",\"name\":\"Thanksgiving Day\",\"countryCode\":\"US\",\"fixed\":false,\"global\":true,\"counties\":null,\"launchYear\":1863,\"types\":[\"Public\"]},{\"date\":\"2023-12-25\",\"localName\":\"Christmas Day\",\"name\":\"Christmas Day\",\"countryCode\":\"US\",\"fixed\":false,\"global\":true,\"counties\":null,\"launchYear\":null,\"types\":[\"Public\"]}]\n"
     ]
    }
   ],
   "source": [
    "# /api/v3/PublicHolidays/{year}/{countryCode}\n",
    "# Gives you a list of all the Holidays and their information\n",
    "link =f'{link_head}/api/v3/PublicHolidays/{year}/{countryCode}' \n",
    "json = requests.get(link)\n",
    "print(json.text )\n"
   ]
  },
  {
   "cell_type": "code",
   "execution_count": 7,
   "id": "3b47e3cf",
   "metadata": {},
   "outputs": [
    {
     "name": "stdout",
     "output_type": "stream",
     "text": [
      "\n"
     ]
    }
   ],
   "source": [
    "# /api/v3/IsTodayPublicHoliday/{countryCode}\n",
    "# Gives back the public holiday today\n",
    "link =f'{link_head}/api/v3/IsTodayPublicHoliday/{countryCode}' \n",
    "json = requests.get(link)\n",
    "print(json.text )"
   ]
  },
  {
   "cell_type": "code",
   "execution_count": 8,
   "id": "d83fb245",
   "metadata": {},
   "outputs": [
    {
     "name": "stdout",
     "output_type": "stream",
     "text": [
      "[{\"date\":\"2023-04-07\",\"localName\":\"Good Friday\",\"name\":\"Good Friday\",\"countryCode\":\"US\",\"fixed\":false,\"global\":false,\"counties\":[\"US-CT\",\"US-DE\",\"US-HI\",\"US-IN\",\"US-KY\",\"US-LA\",\"US-NC\",\"US-ND\",\"US-NJ\",\"US-TN\"],\"launchYear\":null,\"types\":[\"Public\"]},{\"date\":\"2023-05-29\",\"localName\":\"Memorial Day\",\"name\":\"Memorial Day\",\"countryCode\":\"US\",\"fixed\":false,\"global\":true,\"counties\":null,\"launchYear\":null,\"types\":[\"Public\"]},{\"date\":\"2023-06-19\",\"localName\":\"Juneteenth\",\"name\":\"Juneteenth\",\"countryCode\":\"US\",\"fixed\":false,\"global\":true,\"counties\":null,\"launchYear\":2021,\"types\":[\"Public\"]},{\"date\":\"2023-07-04\",\"localName\":\"Independence Day\",\"name\":\"Independence Day\",\"countryCode\":\"US\",\"fixed\":false,\"global\":true,\"counties\":null,\"launchYear\":null,\"types\":[\"Public\"]},{\"date\":\"2023-09-04\",\"localName\":\"Labor Day\",\"name\":\"Labour Day\",\"countryCode\":\"US\",\"fixed\":false,\"global\":true,\"counties\":null,\"launchYear\":null,\"types\":[\"Public\"]},{\"date\":\"2023-10-09\",\"localName\":\"Columbus Day\",\"name\":\"Columbus Day\",\"countryCode\":\"US\",\"fixed\":false,\"global\":false,\"counties\":[\"US-AL\",\"US-AZ\",\"US-CO\",\"US-CT\",\"US-GA\",\"US-ID\",\"US-IL\",\"US-IN\",\"US-IA\",\"US-KS\",\"US-KY\",\"US-LA\",\"US-ME\",\"US-MD\",\"US-MA\",\"US-MS\",\"US-MO\",\"US-MT\",\"US-NE\",\"US-NH\",\"US-NJ\",\"US-NM\",\"US-NY\",\"US-NC\",\"US-OH\",\"US-OK\",\"US-PA\",\"US-RI\",\"US-SC\",\"US-TN\",\"US-UT\",\"US-VA\",\"US-WV\"],\"launchYear\":null,\"types\":[\"Public\"]},{\"date\":\"2023-11-10\",\"localName\":\"Veterans Day\",\"name\":\"Veterans Day\",\"countryCode\":\"US\",\"fixed\":false,\"global\":true,\"counties\":null,\"launchYear\":null,\"types\":[\"Public\"]},{\"date\":\"2023-11-23\",\"localName\":\"Thanksgiving Day\",\"name\":\"Thanksgiving Day\",\"countryCode\":\"US\",\"fixed\":false,\"global\":true,\"counties\":null,\"launchYear\":1863,\"types\":[\"Public\"]},{\"date\":\"2023-12-25\",\"localName\":\"Christmas Day\",\"name\":\"Christmas Day\",\"countryCode\":\"US\",\"fixed\":false,\"global\":true,\"counties\":null,\"launchYear\":null,\"types\":[\"Public\"]},{\"date\":\"2024-01-01\",\"localName\":\"New Year's Day\",\"name\":\"New Year's Day\",\"countryCode\":\"US\",\"fixed\":false,\"global\":true,\"counties\":null,\"launchYear\":null,\"types\":[\"Public\"]},{\"date\":\"2024-01-15\",\"localName\":\"Martin Luther King, Jr. Day\",\"name\":\"Martin Luther King, Jr. Day\",\"countryCode\":\"US\",\"fixed\":false,\"global\":true,\"counties\":null,\"launchYear\":null,\"types\":[\"Public\"]},{\"date\":\"2024-02-19\",\"localName\":\"Presidents Day\",\"name\":\"Washington's Birthday\",\"countryCode\":\"US\",\"fixed\":false,\"global\":true,\"counties\":null,\"launchYear\":null,\"types\":[\"Public\"]}]\n"
     ]
    }
   ],
   "source": [
    "# /api/v3/NextPublicHolidays/{countryCode}\n",
    "# List the next public holidays in the Country you choose\n",
    "link =f'{link_head}/api/v3/NextPublicHolidays/{countryCode}' \n",
    "json = requests.get(link) \n",
    "print(json.text )"
   ]
  },
  {
   "cell_type": "code",
   "execution_count": 9,
   "id": "34d4ecc8",
   "metadata": {},
   "outputs": [
    {
     "name": "stdout",
     "output_type": "stream",
     "text": [
      "[{\"date\":\"2023-03-17\",\"localName\":\"Saint Patrick's Day\",\"name\":\"Saint Patrick's Day\",\"countryCode\":\"CA\",\"fixed\":true,\"global\":false,\"counties\":[\"CA-NL\"],\"launchYear\":null,\"types\":[\"Public\"]},{\"date\":\"2023-03-17\",\"localName\":\"Saint Patrick's Day\",\"name\":\"Saint Patrick's Day\",\"countryCode\":\"GB\",\"fixed\":true,\"global\":false,\"counties\":[\"GB-NIR\"],\"launchYear\":null,\"types\":[\"Public\"]},{\"date\":\"2023-03-17\",\"localName\":\"Lá Fhéile Pádraig\",\"name\":\"Saint Patrick's Day\",\"countryCode\":\"IE\",\"fixed\":true,\"global\":true,\"counties\":null,\"launchYear\":1903,\"types\":[\"Public\"]},{\"date\":\"2023-03-17\",\"localName\":\"Saint Patrick's Day\",\"name\":\"Saint Patrick's Day\",\"countryCode\":\"MS\",\"fixed\":true,\"global\":true,\"counties\":null,\"launchYear\":null,\"types\":[\"Public\"]},{\"date\":\"2023-03-19\",\"localName\":\"Josefstag\",\"name\":\"Saint Joseph's Day\",\"countryCode\":\"CH\",\"fixed\":true,\"global\":false,\"counties\":[\"CH-LU\",\"CH-UR\",\"CH-SZ\",\"CH-NW\",\"CH-ZG\",\"CH-GR\",\"CH-TI\",\"CH-VS\"],\"launchYear\":null,\"types\":[\"Public\"]},{\"date\":\"2023-03-19\",\"localName\":\"Josefstag\",\"name\":\"Saint Joseph's Day\",\"countryCode\":\"LI\",\"fixed\":true,\"global\":true,\"counties\":null,\"launchYear\":null,\"types\":[\"Public\"]},{\"date\":\"2023-03-19\",\"localName\":\"San Ġużepp\",\"name\":\"Feast of St. Joseph\",\"countryCode\":\"MT\",\"fixed\":true,\"global\":true,\"counties\":null,\"launchYear\":null,\"types\":[\"Public\"]},{\"date\":\"2023-03-19\",\"localName\":\"San Giuseppe\",\"name\":\"Saint Joseph's Day\",\"countryCode\":\"VA\",\"fixed\":true,\"global\":true,\"counties\":null,\"launchYear\":null,\"types\":[\"Public\"]},{\"date\":\"2023-03-19\",\"localName\":\"Día de San José\",\"name\":\"St Joseph's Day\",\"countryCode\":\"VE\",\"fixed\":true,\"global\":true,\"counties\":null,\"launchYear\":null,\"types\":[\"Public\"]},{\"date\":\"2023-03-20\",\"localName\":\"Día de San José\",\"name\":\"Saint Joseph's Day\",\"countryCode\":\"CO\",\"fixed\":false,\"global\":true,\"counties\":null,\"launchYear\":null,\"types\":[\"Public\"]},{\"date\":\"2023-03-20\",\"localName\":\"San José\",\"name\":\"St. Joseph's Day\",\"countryCode\":\"ES\",\"fixed\":true,\"global\":false,\"counties\":[\"ES-MD\"],\"launchYear\":null,\"types\":[\"Public\"]},{\"date\":\"2023-03-20\",\"localName\":\"Natalicio de Benito Juárez\",\"name\":\"Benito Juárez's birthday\",\"countryCode\":\"MX\",\"fixed\":false,\"global\":true,\"counties\":null,\"launchYear\":null,\"types\":[\"Public\"]},{\"date\":\"2023-03-20\",\"localName\":\"Otago Anniversary Day\",\"name\":\"Otago Anniversary Day\",\"countryCode\":\"NZ\",\"fixed\":false,\"global\":false,\"counties\":[\"NZ-OTA\"],\"launchYear\":null,\"types\":[\"Public\"]},{\"date\":\"2023-03-20\",\"localName\":\"Independence Day\",\"name\":\"Independence Day\",\"countryCode\":\"TN\",\"fixed\":true,\"global\":true,\"counties\":null,\"launchYear\":null,\"types\":[\"Public\"]},{\"date\":\"2023-03-21\",\"localName\":\"春分の日\",\"name\":\"Vernal Equinox Day\",\"countryCode\":\"JP\",\"fixed\":false,\"global\":true,\"counties\":null,\"launchYear\":null,\"types\":[\"Public\"]},{\"date\":\"2023-03-21\",\"localName\":\"Independence Day\",\"name\":\"Independence Day\",\"countryCode\":\"NA\",\"fixed\":true,\"global\":true,\"counties\":null,\"launchYear\":null,\"types\":[\"Public\"]},{\"date\":\"2023-03-21\",\"localName\":\"Día del abolición de la esclavitud\",\"name\":\"Slavery Abolition Anniversary\",\"countryCode\":\"VE\",\"fixed\":true,\"global\":true,\"counties\":null,\"launchYear\":null,\"types\":[\"Public\"]},{\"date\":\"2023-03-21\",\"localName\":\"Human Rights Day\",\"name\":\"Human Rights Day\",\"countryCode\":\"ZA\",\"fixed\":false,\"global\":true,\"counties\":null,\"launchYear\":1990,\"types\":[\"Public\"]},{\"date\":\"2023-03-22\",\"localName\":\"Dita e Sulltan Nevruzit\",\"name\":\"Nowruz\",\"countryCode\":\"AL\",\"fixed\":true,\"global\":true,\"counties\":null,\"launchYear\":null,\"types\":[\"Public\"]},{\"date\":\"2023-03-22\",\"localName\":\"Día de la Abolición de Esclavitud\",\"name\":\"Emancipation Day\",\"countryCode\":\"PR\",\"fixed\":true,\"global\":true,\"counties\":null,\"launchYear\":null,\"types\":[\"Public\"]}]\n"
     ]
    }
   ],
   "source": [
    "# /api/v3/NextPublicHolidaysWorldwide\n",
    "# list the public holidays happening world wide next in order\n",
    "link =f'{link_head}/api/v3/NextPublicHolidaysWorldwide' \n",
    "json = requests.get(link)\n",
    "print(json.text )"
   ]
  },
  {
   "cell_type": "code",
   "execution_count": 10,
   "id": "3440ceb9",
   "metadata": {},
   "outputs": [
    {
     "name": "stdout",
     "output_type": "stream",
     "text": [
      "[13, 30, 7, 11, 19, 4, 16, 15, 21, 13]\n",
      "{'US': 13, 'CA': 30, 'CN': 7, 'FR': 11, 'DE': 19, 'VN': 4, 'GB': 16, 'KR': 15, 'PR': 21, 'PL': 13}\n"
     ]
    }
   ],
   "source": [
    "import requests\n",
    "import json\n",
    "import pandas as pd\n",
    "import csv\n",
    "import matplotlib.pyplot as plt \n",
    "import numpy as np\n",
    "\n",
    "\n",
    "Year = \"2023\"\n",
    "CountryCode = [\"US\",\"CA\", \"CN\",\"FR\",\"DE\",\"VN\",\"GB\", \"KR\",\"PR\",\"PL\"]\n",
    "total_holiday= []\n",
    "for i in CountryCode:\n",
    "    link = f\"https://date.nager.at/api/v3/PublicHolidays/{Year}/{i}\"\n",
    "    holidays = requests.get(link)\n",
    "    h_json = holidays.json()\n",
    "    if h_json == 0:\n",
    "        total_holiday.append(0)\n",
    "    else:\n",
    "        num = len(h_json)\n",
    "        total_holiday.append(num)\n",
    "print (total_holiday)\n",
    "num_of_holidays = {}\n",
    "r = 0\n",
    "for i in CountryCode:\n",
    "    num_of_holidays[i] = total_holiday[r]\n",
    "    r += 1\n",
    "print (num_of_holidays)\n",
    "    \n"
   ]
  },
  {
   "cell_type": "markdown",
   "id": "e845c955",
   "metadata": {},
   "source": [
    "_BONUS 2_"
   ]
  },
  {
   "cell_type": "code",
   "execution_count": 11,
   "id": "b0ef4a7a",
   "metadata": {},
   "outputs": [
    {
     "data": {
      "image/png": "[encoded data removed]",
      "text/plain": [
       "<Figure size 432x288 with 1 Axes>"
      ]
     },
     "metadata": {
      "needs_background": "light"
     },
     "output_type": "display_data"
    }
   ],
   "source": [
    "fig, ax = plt.subplots()\n",
    "ax.bar(CountryCode, total_holiday, width=0.6)\n",
    "ax.set_ylabel('Amount of Holidays')\n",
    "ax.set_title('Amount of Holidays in each Country')\n",
    "plt.show()\n"
   ]
  },
  {
   "cell_type": "markdown",
   "id": "a6d9f557",
   "metadata": {},
   "source": [
    "_Bonus 1_"
   ]
  },
  {
   "cell_type": "code",
   "execution_count": 12,
   "id": "e793fdc3",
   "metadata": {},
   "outputs": [
    {
     "data": {
      "text/plain": [
       "<function matplotlib.pyplot.show(close=None, block=None)>"
      ]
     },
     "execution_count": 12,
     "metadata": {},
     "output_type": "execute_result"
    },
    {
     "data": {
      "image/png": "[encoded data removed]",
      "text/plain": [
       "<Figure size 720x504 with 1 Axes>"
      ]
     },
     "metadata": {
      "needs_background": "light"
     },
     "output_type": "display_data"
    }
   ],
   "source": [
    "sheet= pd.read_csv(\"Weather.csv\")\n",
    "sheet\n",
    "import matplotlib.pyplot as plt \n",
    "import numpy as np\n",
    "df = pd.DataFrame(sheet)\n",
    "name = df[\"Name\"]\n",
    "pop = df[\"Temperature\"]\n",
    "fig = plt.figure(figsize = (10,7))  \n",
    "plt.bar(name,pop)\n",
    "plt.xlabel(\"Day\")\n",
    "plt.ylabel(\"Temperature\")\n",
    "plt.title (\"Daily Temperature\")\n",
    "# from https://stackoverflow.com/questions/26700598/matplotlib-showing-x-tick-labels-overlapping\n",
    "fig.autofmt_xdate()\n",
    "plt.show\n",
    "\n"
   ]
  }
 ],
 "metadata": {
  "kernelspec": {
   "display_name": "Python 3 (ipykernel)",
   "language": "python",
   "name": "python3"
  },
  "language_info": {
   "codemirror_mode": {
    "name": "ipython",
    "version": 3
   },
   "file_extension": ".py",
   "mimetype": "text/x-python",
   "name": "python",
   "nbconvert_exporter": "python",
   "pygments_lexer": "ipython3",
   "version": "3.9.12"
  }
 },
 "nbformat": 4,
 "nbformat_minor": 5
}
